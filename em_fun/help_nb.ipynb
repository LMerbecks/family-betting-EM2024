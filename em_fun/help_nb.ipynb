{
 "cells": [
  {
   "cell_type": "code",
   "execution_count": 1,
   "metadata": {},
   "outputs": [],
   "source": [
    "group_dict = {\n",
    "    \"A\": [\"Germany\", \"Scotland\", \"Hungary\", \"Switzerland\"],\n",
    "    \"B\": [\"Spain\", \"Croatia\", \"Italy\", \"Albania\"],\n",
    "    \"C\": [\"Slovenia\", \"Denmark\", \"Serbia\", \"England\"],\n",
    "    \"D\": [\"Poland\", \"Netherlands\", \"Austria\", \"France\"],\n",
    "    \"E\": [\"Belgium\", \"Slovakia\", \"Romania\", \"Ukraine\"],\n",
    "    \"F\": [\"Turkey\", \"Georgia\", \"Portugal\", \"Czech Republic\"]\n",
    "}\n",
    "\n",
    "# champion, vice champion, third place, fourth place\n",
    "all_teams = [\n",
    "    \"Germany\", \"Scotland\", \"Hungary\", \"Switzerland\",\n",
    "    \"Spain\", \"Croatia\", \"Italy\", \"Albania\",\n",
    "    \"Slovenia\", \"Denmark\", \"Serbia\", \"England\",\n",
    "    \"Poland\", \"Netherlands\", \"Austria\", \"France\",\n",
    "    \"Belgium\", \"Slovakia\", \"Romania\", \"Ukraine\",\n",
    "    \"Turkey\", \"Georgia\", \"Portugal\", \"Czech Republic\"\n",
    "]\n",
    "champion_dict = {\n",
    "    \"champion\": all_teams,\n",
    "    \"vice_champion\": all_teams,\n",
    "    \"third_place\": all_teams,\n",
    "    \"fourth_place\": all_teams\n",
    "}"
   ]
  },
  {
   "cell_type": "code",
   "execution_count": 5,
   "metadata": {},
   "outputs": [
    {
     "data": {
      "text/plain": [
       "'Germany'"
      ]
     },
     "execution_count": 5,
     "metadata": {},
     "output_type": "execute_result"
    }
   ],
   "source": []
  },
  {
   "cell_type": "code",
   "execution_count": 1,
   "metadata": {},
   "outputs": [],
   "source": [
    "import sqlite3\n",
    "\n",
    "# Function to initialize the database and insert users\n",
    "def init_db_with_users(user_list):\n",
    "    # Connect to SQLite database (or create it if it doesn't exist)\n",
    "    conn = sqlite3.connect('users.db')\n",
    "    c = conn.cursor()\n",
    "    \n",
    "    # Create table if it does not exist\n",
    "    c.execute('''\n",
    "        CREATE TABLE IF NOT EXISTS users (\n",
    "            id INTEGER PRIMARY KEY,\n",
    "            username TEXT NOT NULL,\n",
    "            password TEXT NOT NULL\n",
    "        )\n",
    "    ''')\n",
    "    \n",
    "    # Insert users into the table\n",
    "    for user in user_list:\n",
    "        c.execute(\"INSERT INTO users (username, password) VALUES (?, ?)\", (user['username'], user['password']))\n",
    "    \n",
    "    # Save (commit) the changes and close the connection\n",
    "    conn.commit()\n",
    "    conn.close()\n",
    "\n",
    "# List of users to be added\n",
    "users_to_add = [\n",
    "    {'username': 'Lele', 'password': 'lele_123'},\n",
    "    {'username': 'Augi', 'password': 'augi_123'},\n",
    "    {'username': 'Mama', 'password': 'mama_123'},\n",
    "    {'username': 'Papa', 'password': 'papa_123'},\n",
    "     {'username': 'Oma', 'password': 'oma_123'},\n",
    "{'username': 'Jutta', 'password': 'jutta_123'},\n",
    "{'username': 'Peter', 'password': 'peter_123'},\n",
    "]\n",
    "\n",
    "# Initialize the database and insert users\n",
    "init_db_with_users(users_to_add)\n"
   ]
  }
 ],
 "metadata": {
  "kernelspec": {
   "display_name": "Python 3",
   "language": "python",
   "name": "python3"
  },
  "language_info": {
   "codemirror_mode": {
    "name": "ipython",
    "version": 3
   },
   "file_extension": ".py",
   "mimetype": "text/x-python",
   "name": "python",
   "nbconvert_exporter": "python",
   "pygments_lexer": "ipython3",
   "version": "3.9.18"
  }
 },
 "nbformat": 4,
 "nbformat_minor": 2
}
